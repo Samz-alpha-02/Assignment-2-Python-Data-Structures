{
 "cells": [
  {
   "cell_type": "code",
   "execution_count": null,
   "id": "118be628-8a9e-4c8a-81f8-22045b5dc4a4",
   "metadata": {},
   "outputs": [],
   "source": [
    "#Q1\n",
    "In Python, we can add comments to our code to provide explanations, documentations, or to temporarily \n",
    "disable certain sections of code. Comments are ignored by the interpreter and are not executed as part \n",
    "of the program.\n",
    "\n",
    "There are two types of comments in Python:\n",
    "    1. Single-line comments: Single-line comments begin with the hash symbol ('#'). Anything following \n",
    "       the '#' on the same line is considered a comment and is ignored by the interpreter.\n",
    "        Here is an example:\n",
    "        # This is a single-line comment in Python\n",
    "        print(\"Hello, world!\")\n",
    "        \n",
    "    2. Multi-line comments: Multi-line comments are used for longer comments or documentation that span \n",
    "       multiple lines. Python does not have a built-in syntax for multi-line comments, but we can use \n",
    "       triple quotes (\" ''' \" or ' \"\"\" ') to create multi-line strings, which can serve as comments. Since \n",
    "       these strings are not assigned to any variable, they are effectively treated as comments.\n",
    "        '''\n",
    "        This is a multi-line comment in Python.\n",
    "        It spans multiple lines and can be used to provide detailed explanations or documentation.\n",
    "        '''\n",
    "        print(\"Hello, world!\")\n",
    "\n"
   ]
  },
  {
   "cell_type": "code",
   "execution_count": null,
   "id": "010f6de7-151c-44d3-8b81-62e8d8ccbf80",
   "metadata": {},
   "outputs": [],
   "source": [
    "#Q2\n",
    "In Python, variables are used to store and manipulate data. A variable is like a container that holds a \n",
    "value, and we can assign different values to variables throughout our program. Here is how we declare and \n",
    "assign values to variables in Python:\n",
    "\n",
    "Variable Declaration:\n",
    "To declare a variable, we simply choose a name for it and use the assignment operator (=) to assign a value \n",
    "to it. Python is a dynamically typed language, so we do not need to explicitly specify the data type of a variable.\n",
    "# Variable declaration and assignment\n",
    "variable_name = value\n",
    "\n",
    "Variable Assignment:\n",
    "We can assign values to variables in a variety of ways, such as assigning a literal value, the result of an \n",
    "expression, or the value of another variable.\n",
    "# Assigning a literal value\n",
    "x = 10\n",
    "name = \"John\"\n",
    "\n",
    "# Assigning the result of an expression\n",
    "y = x + 5\n",
    "\n",
    "# Assigning the value of another variable\n",
    "z = y\n",
    "\n",
    "Multiple Assignments:\n",
    "Python also allows multiple assignments in a single line, where we can assign values to multiple variables \n",
    "simultaneously.\n",
    "# Multiple assignments\n",
    "a, b, c = 1, 2, 3\n",
    "In the example above, the value 1 is assigned to a, 2 is assigned to b, and 3 is assigned to c."
   ]
  },
  {
   "cell_type": "code",
   "execution_count": null,
   "id": "a514bfd6-0931-4446-b4f9-a4fa8b1626f9",
   "metadata": {},
   "outputs": [],
   "source": [
    "#Q3\n",
    "In Python, we can convert one data type to another using type conversion functions or constructors. Here are some \n",
    "commonly used methods for type conversion:\n",
    "    \n",
    "1. int(): Converts a value to an integer data type.\n",
    "   x = 10\n",
    "   y = \"15\"\n",
    "   z = int(y)  # Convert string to integer\n",
    "   sum = x + z\n",
    "   print(sum)  # Output: 25\n",
    "\n",
    "2. float(): Converts a value to a floating-point data type.\n",
    "   x = 10\n",
    "   y = \"3.14\"\n",
    "   z = float(y)  # Convert string to float\n",
    "   result = x * z\n",
    "   print(result)  # Output: 31.4\n",
    "\n",
    "3. str(): Converts a value to a string data type.\n",
    "   x = 10\n",
    "   y = 3.14\n",
    "   text = \"The value of x is: \" + str(x) + \", and the value of y is: \" + str(y)\n",
    "   print(text)  # Output: The value of x is: 10, and the value of y is: 3.14\n",
    "\n",
    "4. bool(): Converts a value to a boolean data type.\n",
    "   x = 10\n",
    "   y = 0\n",
    "   a = bool(x)  # Convert non-zero value to True\n",
    "   b = bool(y)  # Convert zero value to False\n",
    "   print(a)  # Output: True\n",
    "   print(b)  # Output: False\n",
    "\n",
    "5. list(), tuple(), set(): Converts a sequence (like a string or list) to a list, tuple, or set data type, \n",
    "                           respectively.\n",
    "   text = \"Hello, World!\"\n",
    "   list_data = list(text)  # Convert string to list\n",
    "   tuple_data = tuple(text)  # Convert string to tuple\n",
    "   set_data = set(text)  # Convert string to set\n",
    "   print(list_data)  # Output: ['H', 'e', 'l', 'l', 'o', ',', ' ', 'W', 'o', 'r', 'l', 'd', '!']\n",
    "   print(tuple_data)  # Output: ('H', 'e', 'l', 'l', 'o', ',', ' ', 'W', 'o', 'r', 'l', 'd', '!')\n",
    "   print(set_data)  # Output: {'e', 'd', 'H', 'o', 'r', 'W', 'l', ',', '!', ' '}\n",
    "\n",
    "These are just a few examples of type conversions in Python. Depending on our needs, we may also need to use \n",
    "other specific conversion functions or methods provided by different data types or libraries.\n"
   ]
  },
  {
   "cell_type": "code",
   "execution_count": null,
   "id": "5896ddce-2806-4ec2-9880-e4b1bd9e923c",
   "metadata": {},
   "outputs": [],
   "source": [
    "#Q4\n",
    "To write and execute a Python script from the command line, follow these steps:\n",
    "\n",
    "1. Open a text editor and create a new file. Write your Python code in this file and save it with a .py extension. \n",
    "   For example, let us create a file named my_script.py.\n",
    "\n",
    "2. Open the command prompt or terminal on your computer.\n",
    "\n",
    "3. Navigate to the directory where you saved the Python script using the cd command. For example, if your script is \n",
    "   saved in the \"Documents\" folder, you would use the following command on Windows:\n",
    "   cd C:\\Users\\YourUsername\\Documents\n",
    "\n",
    "4. Once you are in the correct directory, you can execute the Python script using the python command followed by the \n",
    "   name of the script file. For example:\n",
    "   python my_script.py\n",
    "\n",
    "5. Press the Enter/Return key to execute the command. The Python interpreter will read your script and execute it, \n",
    "   displaying any output or error messages in the command prompt or terminal.\n",
    "    \n",
    "That's it! Your Python script will run, and you can see the results or any output generated by your code. Remember to\n",
    "save your script before running it, and ensure that you have Python installed and added to your system's PATH environment \n",
    "variable for the python command to work properly."
   ]
  },
  {
   "cell_type": "code",
   "execution_count": 3,
   "id": "0be106b5-f44d-4bf0-9c4d-d5280bae1988",
   "metadata": {},
   "outputs": [
    {
     "name": "stdout",
     "output_type": "stream",
     "text": [
      "[2, 3]\n"
     ]
    }
   ],
   "source": [
    "#Q5\n",
    "my_list = [1, 2, 3, 4, 5]\n",
    "sub_list = my_list[1:3]\n",
    "print(sub_list)"
   ]
  },
  {
   "cell_type": "code",
   "execution_count": null,
   "id": "9f14f10f-a621-4908-8a6b-dc6d404954a1",
   "metadata": {},
   "outputs": [],
   "source": [
    "#Q6\n",
    "In mathematics, a complex number is a number that consists of a real part and an imaginary part. It is written in \n",
    "the form \"a + bi\", where \"a\" represents the real part, \"b\" represents the imaginary part, and \"i\" represents the \n",
    "imaginary unit (√-1).\n",
    "\n",
    "In Python, complex numbers are represented using the built-in complex data type. The complex type takes two arguments: \n",
    "the real part and the imaginary part. Here are a few examples of complex number representations in Python:\n",
    "# Complex number examples\n",
    "z1 = complex(2, 3)   # 2 + 3i\n",
    "z2 = complex(1.5, -2)   # 1.5 - 2i\n",
    "z3 = 4 + 2j   # 4 + 2i\n",
    "z4 = 0 - 1j   # -i\n",
    "\n",
    "We can perform various mathematical operations with complex numbers in Python, such as addition, subtraction, \n",
    "multiplication, division, and more. Python provides built-in functions and operators to work with complex numbers. \n",
    "Here are a few examples:\n",
    "z1 = complex(2, 3)\n",
    "z2 = complex(1, 2)\n",
    "\n",
    "# Addition\n",
    "result = z1 + z2\n",
    "print(result)   # Output: (3+5j)\n",
    "\n",
    "# Multiplication\n",
    "result = z1 * z2\n",
    "print(result)   # Output: (-4+7j)\n",
    "\n",
    "# Real part\n",
    "real_part = z1.real\n",
    "print(real_part)   # Output: 2.0\n",
    "\n",
    "# Imaginary part\n",
    "imaginary_part = z1.imag\n",
    "print(imaginary_part)   # Output: 3.0\n",
    "\n",
    "These examples demonstrate how complex numbers can be represented and manipulated in Python using the complex data \n",
    "type and related functions.\n"
   ]
  },
  {
   "cell_type": "code",
   "execution_count": null,
   "id": "7b39dbc5-24d1-4caf-8b05-abe41703e9b2",
   "metadata": {},
   "outputs": [],
   "source": [
    "#Q7\n",
    "The correct way to declare a variable named age and assign the value 25 to it in Python is as follows:\n",
    "    \n",
    "age = 25\n",
    "\n",
    "In this code snippet, age is the variable name, and 25 is the value assigned to the variable. Python does not require\n",
    "explicit type declarations, so we do not need to specify the data type of the variable age before assigning the value.\n",
    "\n",
    "It is important to note that if we want to use the age variable elsewhere in our code, we should declare and assign \n",
    "its value before referencing it."
   ]
  },
  {
   "cell_type": "code",
   "execution_count": null,
   "id": "d2276ca6-60b4-4229-81d1-0bae11a3f22d",
   "metadata": {},
   "outputs": [],
   "source": [
    "#Q8\n",
    "To declare a variable named price and assign the value 9.99 to it, we can use the following code:\n",
    "    \n",
    "price = 9.99\n",
    "\n",
    "In this case, the variable price belongs to the float data type. The value 9.99 is a floating-point number, which is \n",
    "represented by the float data type in Python. Floats are used to represent decimal or fractional numbers in Python."
   ]
  },
  {
   "cell_type": "code",
   "execution_count": null,
   "id": "cd12bd23-54cc-4cb2-b119-a372527b7e09",
   "metadata": {},
   "outputs": [],
   "source": [
    "#Q9\n",
    "To create a variable named name and assign your full name to it as a string, we can use the following code as an example:\n",
    "    \n",
    "name = \"John Doe\"\n",
    "\n",
    "In this case, the variable name is assigned the string value \"John Doe\".\n",
    "\n",
    "To print the value of the name variable, we used the print() function in Python. Here's an example:\n",
    "\n",
    "print(name)\n",
    "\n",
    "When we run this code, it will output the value of the name variable:\n",
    "    \n",
    "John Doe\n",
    "\n",
    "The print() function is used to display the value of variables or any other text or data we want to output."
   ]
  },
  {
   "cell_type": "code",
   "execution_count": 5,
   "id": "e1610c41-d872-41a1-98eb-f04ade7e3a91",
   "metadata": {},
   "outputs": [
    {
     "name": "stdout",
     "output_type": "stream",
     "text": [
      "John Doe\n"
     ]
    }
   ],
   "source": [
    "name = \"John Doe\"\n",
    "print(name)"
   ]
  },
  {
   "cell_type": "code",
   "execution_count": 4,
   "id": "351c4489-7f7b-4de5-b10a-38778f9e920c",
   "metadata": {},
   "outputs": [
    {
     "name": "stdout",
     "output_type": "stream",
     "text": [
      "World\n"
     ]
    }
   ],
   "source": [
    "#Q10\n",
    "#To extract the substring \"World\" from the string \"Hello, World!\", we can use string slicing in Python. \n",
    "#Here is an example:\n",
    "    \n",
    "text = \"Hello,World!\"\n",
    "substring = text[6:11]\n",
    "print(substring)\n"
   ]
  },
  {
   "cell_type": "code",
   "execution_count": null,
   "id": "057e3bca-a01c-481c-a7b6-411af7836124",
   "metadata": {},
   "outputs": [],
   "source": [
    "#Q11\n",
    "To create a variable named is_student and assign it a boolean value indicating whether we are currently a student or not, \n",
    "we can use the following code:\n",
    "    \n",
    "is_student = True\n",
    "\n",
    "In this example, the variable is_student is assigned the boolean value True, indicating that we are currently a student. \n",
    "\n",
    "If we are not a student, we can assign the value False instead:\n",
    "    \n",
    "is_student = False\n",
    "\n",
    "By assigning a boolean value to the is_student variable, we can later use it in conditional statements or perform logical \n",
    "operations based on whether we are a student or not.\n"
   ]
  }
 ],
 "metadata": {
  "kernelspec": {
   "display_name": "Python 3 (ipykernel)",
   "language": "python",
   "name": "python3"
  },
  "language_info": {
   "codemirror_mode": {
    "name": "ipython",
    "version": 3
   },
   "file_extension": ".py",
   "mimetype": "text/x-python",
   "name": "python",
   "nbconvert_exporter": "python",
   "pygments_lexer": "ipython3",
   "version": "3.10.8"
  }
 },
 "nbformat": 4,
 "nbformat_minor": 5
}
